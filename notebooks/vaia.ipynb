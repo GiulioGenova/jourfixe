{
 "cells": [
  {
   "cell_type": "code",
   "execution_count": 1,
   "metadata": {},
   "outputs": [],
   "source": [
    "import ee\n",
    "import geemap\n",
    "from geemap import ee_initialize\n",
    "ee_initialize()"
   ]
  },
  {
   "cell_type": "code",
   "execution_count": 5,
   "metadata": {},
   "outputs": [],
   "source": [
    "roi= ee.Geometry.Polygon(\n",
    "        [[[11.314077113461716, 46.52210953571128],\n",
    "          [11.314077113461716, 46.2744492073579],\n",
    "          [11.894292567563278, 46.2744492073579],\n",
    "          [11.894292567563278, 46.52210953571128]]])\n",
    "\n",
    "before = ee.ImageCollection('COPERNICUS/S2') \\\n",
    "    .filterDate('2017-03-01', '2017-09-30') \\\n",
    "    .filter(ee.Filter.lt('CLOUDY_PIXEL_PERCENTAGE', 20)) \\\n",
    "    .filterBounds(roi) \\\n",
    "    .median()\n",
    "\n",
    "after = ee.ImageCollection('COPERNICUS/S2') \\\n",
    "    .filterDate('2019-03-01', '2019-09-30') \\\n",
    "    .filter(ee.Filter.lt('CLOUDY_PIXEL_PERCENTAGE', 20)) \\\n",
    "    .filterBounds(roi) \\\n",
    "    .median()"
   ]
  },
  {
   "cell_type": "code",
   "execution_count": 6,
   "metadata": {},
   "outputs": [],
   "source": [
    "vizParams = {'bands': ['B8', 'B4', 'B3'], 'gain': 0.05,'gamma': 2}\n",
    "\n",
    "left_layer = geemap.ee_tile_layer(before, vizParams, 'Before Vaia (2017)')\n",
    "right_layer = geemap.ee_tile_layer(after, vizParams, 'After Vaia (2019)')"
   ]
  },
  {
   "cell_type": "code",
   "execution_count": 10,
   "metadata": {},
   "outputs": [
    {
     "output_type": "display_data",
     "data": {
      "text/plain": "Map(center=[46.43, 11.579], controls=(WidgetControl(options=['position'], widget=HBox(children=(ToggleButton(v…",
      "application/vnd.jupyter.widget-view+json": {
       "version_major": 2,
       "version_minor": 0,
       "model_id": "5df66a635708476ab67f973e14d526ce"
      }
     },
     "metadata": {}
    }
   ],
   "source": [
    "Map = geemap.Map(center=(46.4300,11.5790),zoom = 14)\n",
    "Map.split_map(left_layer, right_layer)\n",
    "Map"
   ]
  },
  {
   "cell_type": "code",
   "execution_count": null,
   "metadata": {},
   "outputs": [],
   "source": []
  }
 ],
 "metadata": {
  "kernelspec": {
   "name": "python3",
   "display_name": "Python 3.8.5 64-bit ('base': conda)",
   "metadata": {
    "interpreter": {
     "hash": "2800adbcc015a26669636914ab08461ab6a00fd7d4babb9145b4932d63e56c5c"
    }
   }
  },
  "language_info": {
   "codemirror_mode": {
    "name": "ipython",
    "version": 3
   },
   "file_extension": ".py",
   "mimetype": "text/x-python",
   "name": "python",
   "nbconvert_exporter": "python",
   "pygments_lexer": "ipython3",
   "version": "3.8.5-final"
  }
 },
 "nbformat": 4,
 "nbformat_minor": 4
}