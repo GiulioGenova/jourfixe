{
 "cells": [
  {
   "cell_type": "code",
   "execution_count": 16,
   "metadata": {},
   "outputs": [],
   "source": [
    "import geemap\n",
    "import ee"
   ]
  },
  {
   "cell_type": "code",
   "execution_count": 17,
   "metadata": {},
   "outputs": [],
   "source": [
    "ee.Initialize()"
   ]
  },
  {
   "cell_type": "code",
   "execution_count": 19,
   "metadata": {},
   "outputs": [],
   "source": [
    "before = ee.ImageCollection('COPERNICUS/S2') \\\n",
    "    .filterDate('2017-01-01', '2017-12-31') \\\n",
    "    .filter(ee.Filter.lt('CLOUDY_PIXEL_PERCENTAGE', 20)) \\\n",
    "    .median()\n",
    "\n",
    "after = ee.ImageCollection('COPERNICUS/S2') \\\n",
    "    .filterDate('2020-01-01', '2020-12-31') \\\n",
    "    .filter(ee.Filter.lt('CLOUDY_PIXEL_PERCENTAGE', 20)) \\\n",
    "    .median()"
   ]
  },
  {
   "cell_type": "code",
   "execution_count": 20,
   "metadata": {},
   "outputs": [],
   "source": [
    "left_layer = geemap.ee_tile_layer(before, {'bands': ['B8', 'B4', 'B3'], 'gamma' : 2.3}, 'Before Vaia (2017)')\n",
    "right_layer = geemap.ee_tile_layer(after, {'bands': ['B8', 'B4', 'B3'], 'gamma' : 2.3}, 'After Vaia (2019)')"
   ]
  },
  {
   "cell_type": "code",
   "execution_count": 21,
   "metadata": {},
   "outputs": [
    {
     "output_type": "display_data",
     "data": {
      "text/plain": "Map(center=[46.42360444948176, 11.579089345899995], controls=(WidgetControl(options=['position'], widget=HBox(…",
      "application/vnd.jupyter.widget-view+json": {
       "version_major": 2,
       "version_minor": 0,
       "model_id": "029f4767e0aa42e293a182f31102e386"
      }
     },
     "metadata": {}
    }
   ],
   "source": [
    "Map = geemap.Map(center=(46.42360444948176,11.579089345899995),zoom = 14)\n",
    "Map.split_map(left_layer, right_layer)\n",
    "Map"
   ]
  },
  {
   "cell_type": "code",
   "execution_count": null,
   "metadata": {},
   "outputs": [],
   "source": []
  }
 ],
 "metadata": {
  "kernelspec": {
   "name": "python3",
   "display_name": "Python 3"
  },
  "language_info": {
   "codemirror_mode": {
    "name": "ipython",
    "version": 3
   },
   "file_extension": ".py",
   "mimetype": "text/x-python",
   "name": "python",
   "nbconvert_exporter": "python",
   "pygments_lexer": "ipython3",
   "version": "3.7.8-final"
  }
 },
 "nbformat": 4,
 "nbformat_minor": 4
}