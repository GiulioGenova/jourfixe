{
 "cells": [
  {
   "source": [
    "# Vaia\n",
    "The storm named \"Vaia\" hit Northern Italy during the night of October 28<sup>th</sup>, 2018. <br>\n",
    "The Sisef (Italian Society of Forestry and Forest Ecology) has defined it as \"an unprecedented phenomenon in the last 50 years at least\".\n",
    "\n",
    "This is an example on how to use [Google Earth Engine](https://earthengine.google.com) via [Python](https://gee-python-api.readthedocs.io/en/latest/index.html) to visualize the impact of the storm.\n",
    "False color images (Sentinel 2) before and after the event are presented.\n",
    "\n",
    "**Contact**: Giulio Genova ([Twitter](https://twitter.com/giuliogenova), [GitHub](https://github.com/GiulioGenova), [Linkedin](https://www.linkedin.com/in/giulio-genova-a54b30a4/))"
   ],
   "cell_type": "markdown",
   "metadata": {}
  },
  {
   "cell_type": "code",
   "execution_count": null,
   "metadata": {},
   "outputs": [],
   "source": [
    "import ee\n",
    "import geemap\n",
    "from geemap import ee_initialize\n",
    "ee_initialize()"
   ]
  },
  {
   "cell_type": "code",
   "execution_count": null,
   "metadata": {},
   "outputs": [],
   "source": [
    "roi= ee.Geometry.Polygon(\n",
    "        [[[11.314077113461716, 46.52210953571128],\n",
    "          [11.314077113461716, 46.2744492073579],\n",
    "          [11.894292567563278, 46.2744492073579],\n",
    "          [11.894292567563278, 46.52210953571128]]])\n",
    "\n",
    "before = ee.ImageCollection('COPERNICUS/S2') \\\n",
    "    .filterDate('2017-03-01', '2017-09-30') \\\n",
    "    .filter(ee.Filter.lt('CLOUDY_PIXEL_PERCENTAGE', 20)) \\\n",
    "    .filterBounds(roi) \\\n",
    "    .median()\n",
    "\n",
    "after = ee.ImageCollection('COPERNICUS/S2') \\\n",
    "    .filterDate('2019-03-01', '2019-09-30') \\\n",
    "    .filter(ee.Filter.lt('CLOUDY_PIXEL_PERCENTAGE', 20)) \\\n",
    "    .filterBounds(roi) \\\n",
    "    .median()"
   ]
  },
  {
   "cell_type": "code",
   "execution_count": null,
   "metadata": {},
   "outputs": [],
   "source": [
    "vizParams = {'bands': ['B8', 'B4', 'B3'], 'gain': 0.05,'gamma': 2}\n",
    "\n",
    "left_layer = geemap.ee_tile_layer(before, vizParams, 'Before Vaia (2017)')\n",
    "right_layer = geemap.ee_tile_layer(after, vizParams, 'After Vaia (2019)')"
   ]
  },
  {
   "cell_type": "code",
   "execution_count": null,
   "metadata": {},
   "outputs": [],
   "source": [
    "Map = geemap.Map(center=(46.4300,11.5790),zoom = 14)\n",
    "Map.split_map(left_layer, right_layer)\n",
    "Map"
   ]
  },
  {
   "cell_type": "code",
   "execution_count": null,
   "metadata": {},
   "outputs": [],
   "source": []
  }
 ],
 "metadata": {
  "kernelspec": {
   "name": "python3",
   "display_name": "Python 3.8.5 64-bit ('deepgrids-env': conda)",
   "metadata": {
    "interpreter": {
     "hash": "2800adbcc015a26669636914ab08461ab6a00fd7d4babb9145b4932d63e56c5c"
    }
   }
  },
  "language_info": {
   "codemirror_mode": {
    "name": "ipython",
    "version": 3
   },
   "file_extension": ".py",
   "mimetype": "text/x-python",
   "name": "python",
   "nbconvert_exporter": "python",
   "pygments_lexer": "ipython3",
   "version": "3.8.5-final"
  }
 },
 "nbformat": 4,
 "nbformat_minor": 4
}