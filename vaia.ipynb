{
 "cells": [
  {
   "cell_type": "code",
   "execution_count": 1,
   "metadata": {},
   "outputs": [],
   "source": [
    "import geemap\n",
    "import ee"
   ]
  },
  {
   "cell_type": "code",
   "execution_count": 4,
   "metadata": {},
   "outputs": [],
   "source": [
    "ee.Initialize()"
   ]
  },
  {
   "cell_type": "code",
   "execution_count": 9,
   "metadata": {},
   "outputs": [],
   "source": [
    "before = ee.ImageCollection('COPERNICUS/S2') \\\n",
    "    .filterDate('2017-01-01', '2017-12-31') \\\n",
    "    .filter(ee.Filter.lt('CLOUDY_PIXEL_PERCENTAGE', 20)) \\\n",
    "    #.map(maskS2clouds)\n",
    "\n",
    "before = before.median()\n",
    "\n",
    "#Map.addLayer(before, {bands: ['B8', 'B4', 'B3'], 'gamma' : 2.3}, 'Before')\n",
    "\n",
    "after = ee.ImageCollection('COPERNICUS/S2') \\\n",
    "    .filterDate('2020-01-01', '2020-12-31') \\\n",
    "    .filter(ee.Filter.lt('CLOUDY_PIXEL_PERCENTAGE', 20)) \\\n",
    "    #.map(maskS2clouds)\n",
    "\n",
    "after = after.median()"
   ]
  },
  {
   "cell_type": "code",
   "execution_count": 13,
   "metadata": {},
   "outputs": [],
   "source": [
    "left_layer = geemap.ee_tile_layer(before, {'bands': ['B8', 'B4', 'B3'], 'gamma' : 2.3}, 'Before Vaia (2017)')\n",
    "right_layer = geemap.ee_tile_layer(after, {'bands': ['B8', 'B4', 'B3'], 'gamma' : 2.3}, 'After Vaia (2019)')"
   ]
  },
  {
   "cell_type": "code",
   "execution_count": 14,
   "metadata": {},
   "outputs": [
    {
     "output_type": "display_data",
     "data": {
      "text/plain": "Map(center=[46.42360444948176, 11.579089345899995], controls=(WidgetControl(options=['position'], widget=HBox(…",
      "application/vnd.jupyter.widget-view+json": {
       "version_major": 2,
       "version_minor": 0,
       "model_id": "46a568f60ccf421b8410e8031fe735d5"
      }
     },
     "metadata": {}
    }
   ],
   "source": [
    "Map = geemap.Map(center=(46.42360444948176,11.579089345899995),zoom = 14)\n",
    "Map.split_map(left_layer, right_layer)\n",
    "Map"
   ]
  },
  {
   "cell_type": "code",
   "execution_count": 23,
   "metadata": {},
   "outputs": [],
   "source": [
    "before = ee.ImageCollection('COPERNICUS/S2') \\\n",
    "    .filterDate('2018-09-01', '2018-10-25') \\\n",
    "    .filter(ee.Filter.lt('CLOUDY_PIXEL_PERCENTAGE', 20)) \\\n",
    "    #.map(maskS2clouds)\n",
    "\n",
    "before = before.median()\n",
    "\n",
    "#Map.addLayer(before, {bands: ['B8', 'B4', 'B3'], 'gamma' : 2.3}, 'Before')\n",
    "\n",
    "after = ee.ImageCollection('COPERNICUS/S2') \\\n",
    "    .filterDate('2018-10-25', '2018-12-10') \\\n",
    "    .filter(ee.Filter.lt('CLOUDY_PIXEL_PERCENTAGE', 20)) \\\n",
    "    #.map(maskS2clouds)\n",
    "\n",
    "after = after.median()\n",
    "\n",
    "\n",
    "left_layer = geemap.ee_tile_layer(before, {'bands': ['B4', 'B2', 'B3'], 'gamma' : 4}, 'Before Vaia (2017)')\n",
    "right_layer = geemap.ee_tile_layer(after, {'bands': ['B4', 'B2', 'B3'], 'gamma' : 4}, 'After Vaia (2019)')"
   ]
  },
  {
   "cell_type": "code",
   "execution_count": 24,
   "metadata": {},
   "outputs": [
    {
     "output_type": "display_data",
     "data": {
      "text/plain": "Map(center=[46.42360444948176, 11.579089345899995], controls=(WidgetControl(options=['position'], widget=HBox(…",
      "application/vnd.jupyter.widget-view+json": {
       "version_major": 2,
       "version_minor": 0,
       "model_id": "8318b72ea4d04905933c839b01d54f7b"
      }
     },
     "metadata": {}
    }
   ],
   "source": [
    "Map = geemap.Map(center=(46.42360444948176,11.579089345899995),zoom = 14)\n",
    "Map.split_map(left_layer, right_layer)\n",
    "Map"
   ]
  },
  {
   "cell_type": "code",
   "execution_count": null,
   "metadata": {},
   "outputs": [],
   "source": []
  }
 ],
 "metadata": {
  "kernelspec": {
   "display_name": "Python 3",
   "language": "python",
   "name": "python3"
  },
  "language_info": {
   "codemirror_mode": {
    "name": "ipython",
    "version": 3
   },
   "file_extension": ".py",
   "mimetype": "text/x-python",
   "name": "python",
   "nbconvert_exporter": "python",
   "pygments_lexer": "ipython3",
   "version": "3.7.8-final"
  }
 },
 "nbformat": 4,
 "nbformat_minor": 4
}